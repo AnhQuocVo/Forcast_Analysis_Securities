{
 "cells": [
  {
   "cell_type": "markdown",
   "id": "abd34d86",
   "metadata": {},
   "source": [
    "# Time Series Forecast - VNINDEX"
   ]
  },
  {
   "cell_type": "code",
   "execution_count": null,
   "id": "3ac2bf1a",
   "metadata": {},
   "outputs": [],
   "source": [
    "#import necessary libraries\n",
    "import matplotlib.pyplot as plt\n",
    "from vnstock import Quote\n",
    "import pandas as pd\n",
    "\n",
    "from utilsforecast.plotting import plot_series\n",
    "from utilsforecast.evaluation import evaluate\n",
    "from utilsforecast.losses import *\n",
    "\n",
    "import warnings\n",
    "warnings.filterwarnings(\"ignore\")"
   ]
  },
  {
   "cell_type": "markdown",
   "id": "001c3065",
   "metadata": {},
   "source": [
    "## 1.Import Data"
   ]
  },
  {
   "cell_type": "code",
   "execution_count": null,
   "id": "9859d706",
   "metadata": {},
   "outputs": [
    {
     "data": {
      "application/vnd.microsoft.datawrangler.viewer.v0+json": {
       "columns": [
        {
         "name": "time",
         "rawType": "datetime64[ns]",
         "type": "datetime"
        },
        {
         "name": "open",
         "rawType": "float64",
         "type": "float"
        },
        {
         "name": "high",
         "rawType": "float64",
         "type": "float"
        },
        {
         "name": "low",
         "rawType": "float64",
         "type": "float"
        },
        {
         "name": "close",
         "rawType": "float64",
         "type": "float"
        },
        {
         "name": "volume",
         "rawType": "int64",
         "type": "integer"
        }
       ],
       "ref": "c4f4f969-5c39-47e1-a9fc-467c24146ec5",
       "rows": [
        [
         "2010-10-25 00:00:00",
         "444.7",
         "448.6",
         "443.1",
         "448.6",
         "23427100"
        ],
        [
         "2010-10-26 00:00:00",
         "450.2",
         "458.2",
         "450.2",
         "455.1",
         "30139330"
        ],
        [
         "2010-10-27 00:00:00",
         "455.2",
         "455.9",
         "448.9",
         "450.0",
         "23349570"
        ],
        [
         "2010-10-28 00:00:00",
         "448.6",
         "451.5",
         "448.3",
         "450.1",
         "20155160"
        ],
        [
         "2010-10-29 00:00:00",
         "450.5",
         "452.8",
         "450.3",
         "452.6",
         "22494310"
        ],
        [
         "2010-11-01 00:00:00",
         "451.8",
         "451.9",
         "449.8",
         "451.1",
         "18022230"
        ],
        [
         "2010-11-02 00:00:00",
         "448.6",
         "448.9",
         "445.6",
         "446.3",
         "23189030"
        ],
        [
         "2010-11-03 00:00:00",
         "445.3",
         "445.8",
         "442.3",
         "444.2",
         "22703120"
        ],
        [
         "2010-11-04 00:00:00",
         "444.1",
         "449.0",
         "444.0",
         "449.0",
         "23454830"
        ],
        [
         "2010-11-05 00:00:00",
         "452.4",
         "457.3",
         "450.1",
         "457.3",
         "29986290"
        ],
        [
         "2010-11-08 00:00:00",
         "457.5",
         "458.7",
         "454.4",
         "457.1",
         "27232590"
        ],
        [
         "2010-11-09 00:00:00",
         "455.6",
         "455.7",
         "449.4",
         "449.4",
         "30659160"
        ],
        [
         "2010-11-10 00:00:00",
         "447.7",
         "451.3",
         "447.6",
         "451.3",
         "21038880"
        ],
        [
         "2010-11-11 00:00:00",
         "451.2",
         "451.6",
         "446.3",
         "446.7",
         "23536990"
        ],
        [
         "2010-11-12 00:00:00",
         "444.8",
         "446.9",
         "436.5",
         "441.6",
         "38981270"
        ],
        [
         "2010-11-15 00:00:00",
         "440.6",
         "443.1",
         "432.7",
         "433.5",
         "26382340"
        ],
        [
         "2010-11-16 00:00:00",
         "431.1",
         "431.3",
         "425.1",
         "426.9",
         "30931860"
        ],
        [
         "2010-11-17 00:00:00",
         "426.9",
         "430.2",
         "424.3",
         "425.5",
         "25125790"
        ],
        [
         "2010-11-18 00:00:00",
         "427.7",
         "432.1",
         "427.7",
         "430.7",
         "26333370"
        ],
        [
         "2010-11-19 00:00:00",
         "434.4",
         "434.4",
         "426.5",
         "426.5",
         "24821140"
        ],
        [
         "2010-11-22 00:00:00",
         "422.7",
         "426.2",
         "420.0",
         "426.2",
         "23431540"
        ],
        [
         "2010-11-23 00:00:00",
         "426.2",
         "430.8",
         "426.0",
         "430.8",
         "22541430"
        ],
        [
         "2010-11-24 00:00:00",
         "430.5",
         "434.5",
         "428.0",
         "434.5",
         "25109750"
        ],
        [
         "2010-11-25 00:00:00",
         "434.7",
         "440.2",
         "434.7",
         "439.9",
         "31896320"
        ],
        [
         "2010-11-26 00:00:00",
         "441.9",
         "443.7",
         "437.3",
         "439.9",
         "32805180"
        ],
        [
         "2010-11-29 00:00:00",
         "437.9",
         "446.4",
         "436.4",
         "446.4",
         "30743560"
        ],
        [
         "2010-11-30 00:00:00",
         "450.2",
         "456.3",
         "450.2",
         "451.6",
         "62322660"
        ],
        [
         "2010-12-01 00:00:00",
         "451.0",
         "453.6",
         "448.1",
         "449.9",
         "45498940"
        ],
        [
         "2010-12-02 00:00:00",
         "450.1",
         "457.4",
         "448.2",
         "457.4",
         "60631830"
        ],
        [
         "2010-12-03 00:00:00",
         "462.3",
         "467.2",
         "462.3",
         "464.4",
         "68016080"
        ],
        [
         "2010-12-06 00:00:00",
         "467.3",
         "468.8",
         "462.9",
         "465.6",
         "85111340"
        ],
        [
         "2010-12-07 00:00:00",
         "461.7",
         "466.1",
         "460.8",
         "460.8",
         "81943820"
        ],
        [
         "2010-12-08 00:00:00",
         "459.4",
         "461.6",
         "452.6",
         "452.8",
         "68289030"
        ],
        [
         "2010-12-09 00:00:00",
         "450.6",
         "460.8",
         "450.2",
         "460.5",
         "57617350"
        ],
        [
         "2010-12-10 00:00:00",
         "464.8",
         "473.1",
         "462.4",
         "473.1",
         "72125620"
        ],
        [
         "2010-12-13 00:00:00",
         "485.8",
         "490.3",
         "485.7",
         "490.2",
         "77661930"
        ],
        [
         "2010-12-14 00:00:00",
         "493.7",
         "496.4",
         "480.6",
         "489.7",
         "122569420"
        ],
        [
         "2010-12-15 00:00:00",
         "492.8",
         "497.1",
         "491.5",
         "493.5",
         "85904270"
        ],
        [
         "2010-12-16 00:00:00",
         "484.7",
         "489.7",
         "479.7",
         "480.2",
         "73174400"
        ],
        [
         "2010-12-17 00:00:00",
         "483.0",
         "485.3",
         "476.3",
         "485.3",
         "69205020"
        ],
        [
         "2010-12-20 00:00:00",
         "487.6",
         "488.3",
         "478.3",
         "478.3",
         "62095470"
        ],
        [
         "2010-12-21 00:00:00",
         "471.2",
         "483.4",
         "470.1",
         "481.8",
         "61254930"
        ],
        [
         "2010-12-22 00:00:00",
         "488.3",
         "488.7",
         "481.5",
         "481.5",
         "52498410"
        ],
        [
         "2010-12-23 00:00:00",
         "481.7",
         "481.7",
         "475.4",
         "475.4",
         "50104360"
        ],
        [
         "2010-12-24 00:00:00",
         "474.2",
         "477.8",
         "470.8",
         "472.8",
         "36460270"
        ],
        [
         "2010-12-27 00:00:00",
         "475.7",
         "476.1",
         "469.6",
         "473.1",
         "31432870"
        ],
        [
         "2010-12-28 00:00:00",
         "471.7",
         "479.3",
         "471.7",
         "479.3",
         "46930710"
        ],
        [
         "2010-12-29 00:00:00",
         "480.5",
         "481.2",
         "476.5",
         "478.8",
         "47091620"
        ],
        [
         "2010-12-30 00:00:00",
         "477.2",
         "481.5",
         "477.2",
         "481.4",
         "37343490"
        ],
        [
         "2010-12-31 00:00:00",
         "480.9",
         "485.2",
         "480.1",
         "484.7",
         "38915530"
        ]
       ],
       "shape": {
        "columns": 5,
        "rows": 3735
       }
      },
      "text/html": [
       "<div>\n",
       "<style scoped>\n",
       "    .dataframe tbody tr th:only-of-type {\n",
       "        vertical-align: middle;\n",
       "    }\n",
       "\n",
       "    .dataframe tbody tr th {\n",
       "        vertical-align: top;\n",
       "    }\n",
       "\n",
       "    .dataframe thead th {\n",
       "        text-align: right;\n",
       "    }\n",
       "</style>\n",
       "<table border=\"1\" class=\"dataframe\">\n",
       "  <thead>\n",
       "    <tr style=\"text-align: right;\">\n",
       "      <th></th>\n",
       "      <th>open</th>\n",
       "      <th>high</th>\n",
       "      <th>low</th>\n",
       "      <th>close</th>\n",
       "      <th>volume</th>\n",
       "    </tr>\n",
       "    <tr>\n",
       "      <th>time</th>\n",
       "      <th></th>\n",
       "      <th></th>\n",
       "      <th></th>\n",
       "      <th></th>\n",
       "      <th></th>\n",
       "    </tr>\n",
       "  </thead>\n",
       "  <tbody>\n",
       "    <tr>\n",
       "      <th>2010-10-25</th>\n",
       "      <td>444.70</td>\n",
       "      <td>448.60</td>\n",
       "      <td>443.10</td>\n",
       "      <td>448.60</td>\n",
       "      <td>23427100</td>\n",
       "    </tr>\n",
       "    <tr>\n",
       "      <th>2010-10-26</th>\n",
       "      <td>450.20</td>\n",
       "      <td>458.20</td>\n",
       "      <td>450.20</td>\n",
       "      <td>455.10</td>\n",
       "      <td>30139330</td>\n",
       "    </tr>\n",
       "    <tr>\n",
       "      <th>2010-10-27</th>\n",
       "      <td>455.20</td>\n",
       "      <td>455.90</td>\n",
       "      <td>448.90</td>\n",
       "      <td>450.00</td>\n",
       "      <td>23349570</td>\n",
       "    </tr>\n",
       "    <tr>\n",
       "      <th>2010-10-28</th>\n",
       "      <td>448.60</td>\n",
       "      <td>451.50</td>\n",
       "      <td>448.30</td>\n",
       "      <td>450.10</td>\n",
       "      <td>20155160</td>\n",
       "    </tr>\n",
       "    <tr>\n",
       "      <th>2010-10-29</th>\n",
       "      <td>450.50</td>\n",
       "      <td>452.80</td>\n",
       "      <td>450.30</td>\n",
       "      <td>452.60</td>\n",
       "      <td>22494310</td>\n",
       "    </tr>\n",
       "    <tr>\n",
       "      <th>...</th>\n",
       "      <td>...</td>\n",
       "      <td>...</td>\n",
       "      <td>...</td>\n",
       "      <td>...</td>\n",
       "      <td>...</td>\n",
       "    </tr>\n",
       "    <tr>\n",
       "      <th>2025-10-06</th>\n",
       "      <td>1673.16</td>\n",
       "      <td>1695.50</td>\n",
       "      <td>1664.17</td>\n",
       "      <td>1695.50</td>\n",
       "      <td>1087044888</td>\n",
       "    </tr>\n",
       "    <tr>\n",
       "      <th>2025-10-07</th>\n",
       "      <td>1703.90</td>\n",
       "      <td>1703.90</td>\n",
       "      <td>1678.66</td>\n",
       "      <td>1685.30</td>\n",
       "      <td>879953011</td>\n",
       "    </tr>\n",
       "    <tr>\n",
       "      <th>2025-10-08</th>\n",
       "      <td>1701.06</td>\n",
       "      <td>1704.42</td>\n",
       "      <td>1680.87</td>\n",
       "      <td>1697.83</td>\n",
       "      <td>1067425184</td>\n",
       "    </tr>\n",
       "    <tr>\n",
       "      <th>2025-10-09</th>\n",
       "      <td>1702.76</td>\n",
       "      <td>1717.65</td>\n",
       "      <td>1699.17</td>\n",
       "      <td>1716.47</td>\n",
       "      <td>1100211459</td>\n",
       "    </tr>\n",
       "    <tr>\n",
       "      <th>2025-10-10</th>\n",
       "      <td>1725.27</td>\n",
       "      <td>1747.57</td>\n",
       "      <td>1721.76</td>\n",
       "      <td>1747.55</td>\n",
       "      <td>1072926114</td>\n",
       "    </tr>\n",
       "  </tbody>\n",
       "</table>\n",
       "<p>3735 rows × 5 columns</p>\n",
       "</div>"
      ],
      "text/plain": [
       "               open     high      low    close      volume\n",
       "time                                                      \n",
       "2010-10-25   444.70   448.60   443.10   448.60    23427100\n",
       "2010-10-26   450.20   458.20   450.20   455.10    30139330\n",
       "2010-10-27   455.20   455.90   448.90   450.00    23349570\n",
       "2010-10-28   448.60   451.50   448.30   450.10    20155160\n",
       "2010-10-29   450.50   452.80   450.30   452.60    22494310\n",
       "...             ...      ...      ...      ...         ...\n",
       "2025-10-06  1673.16  1695.50  1664.17  1695.50  1087044888\n",
       "2025-10-07  1703.90  1703.90  1678.66  1685.30   879953011\n",
       "2025-10-08  1701.06  1704.42  1680.87  1697.83  1067425184\n",
       "2025-10-09  1702.76  1717.65  1699.17  1716.47  1100211459\n",
       "2025-10-10  1725.27  1747.57  1721.76  1747.55  1072926114\n",
       "\n",
       "[3735 rows x 5 columns]"
      ]
     },
     "execution_count": 3,
     "metadata": {},
     "output_type": "execute_result"
    }
   ],
   "source": [
    "end_date = '2025-10-25'\n",
    "\n",
    "start_date_object = pd.to_datetime(end_date) - pd.DateOffset(years=15)\n",
    "start_date_string = start_date_object.strftime('%Y-%m-%d')\n",
    "\n",
    "quote = Quote(symbol='VNINDEX', source='VCI')\n",
    "df = quote.history(start=start_date_string, end=end_date,index=True)\n",
    "\n",
    "df.set_index('time', inplace=True)\n",
    "df.index = pd.to_datetime(df.index)\n",
    "\n",
    "df"
   ]
  },
  {
   "cell_type": "markdown",
   "id": "2137bef0",
   "metadata": {},
   "source": [
    "## 2.Exploratory Data Analysis (EDA)"
   ]
  },
  {
   "cell_type": "code",
   "execution_count": 23,
   "id": "1068a224",
   "metadata": {},
   "outputs": [
    {
     "name": "stdout",
     "output_type": "stream",
     "text": [
      "              open         high          low            y        volume  \\\n",
      "count  3735.000000  3735.000000  3735.000000  3735.000000  3.735000e+03   \n",
      "mean    859.858137   865.259162   853.695106   859.747660  3.085798e+08   \n",
      "min     334.930000   339.320000   332.280000   336.730000  0.000000e+00   \n",
      "25%     560.625000   564.715000   557.415000   560.985000  8.878622e+07   \n",
      "50%     872.690000   876.970000   868.210000   873.470000  1.536348e+08   \n",
      "75%    1148.925000  1156.715000  1138.090000  1149.315000  5.121481e+08   \n",
      "max    1725.270000  1747.570000  1721.760000  1747.550000  2.698902e+09   \n",
      "std     336.908505   338.819831   334.046796   336.744681  3.235361e+08   \n",
      "\n",
      "                                  ds  \n",
      "count                           3735  \n",
      "mean   2018-04-20 00:55:31.084337408  \n",
      "min              2010-10-25 00:00:00  \n",
      "25%              2014-07-26 12:00:00  \n",
      "50%              2018-04-20 00:00:00  \n",
      "75%              2022-01-10 12:00:00  \n",
      "max              2025-10-10 00:00:00  \n",
      "std                              NaN  \n",
      "<class 'pandas.core.frame.DataFrame'>\n",
      "DatetimeIndex: 3735 entries, 2010-10-25 to 2025-10-10\n",
      "Data columns (total 6 columns):\n",
      " #   Column  Non-Null Count  Dtype         \n",
      "---  ------  --------------  -----         \n",
      " 0   open    3735 non-null   float64       \n",
      " 1   high    3735 non-null   float64       \n",
      " 2   low     3735 non-null   float64       \n",
      " 3   y       3735 non-null   float64       \n",
      " 4   volume  3735 non-null   int64         \n",
      " 5   ds      3735 non-null   datetime64[ns]\n",
      "dtypes: datetime64[ns](1), float64(4), int64(1)\n",
      "memory usage: 204.3 KB\n",
      "None\n"
     ]
    }
   ],
   "source": [
    "print(df.describe())\n",
    "\n",
    "print(df.info())"
   ]
  },
  {
   "cell_type": "code",
   "execution_count": null,
   "id": "6ae77f32",
   "metadata": {},
   "outputs": [
    {
     "data": {
      "image/png": "[encoded data removed]",
      "text/plain": [
       "<Figure size 1400x700 with 2 Axes>"
      ]
     },
     "metadata": {},
     "output_type": "display_data"
    }
   ],
   "source": [
    "fig1, ax1 = plt.subplots(figsize=(14,7))\n",
    "# Plot close price\n",
    "ax1.plot(df.index, df['close'], label='VNINDEX Close Price', color='blue')\n",
    "ax1.set_xlabel('Time')\n",
    "ax1.set_ylabel('Close Price', color='blue')\n",
    "ax1.tick_params(axis='y', labelcolor='blue')\n",
    "ax1.legend(loc='upper left')\n",
    "# plot volume on secondary y-axis\n",
    "ax2 = ax1.twinx()\n",
    "ax2.plot(df.index, df['volume'], label='VNINDEX Volume', color='orange', alpha=0.6)\n",
    "ax2.set_ylabel('Volume', color='orange')\n",
    "ax2.tick_params(axis='y', labelcolor='orange')\n",
    "ax2.legend(loc='upper right')\n",
    "\n",
    "plt.title('VNINDEX Close Price and Volume Over Time')\n",
    "plt.show()"
   ]
  }
 ],
 "metadata": {
  "kernelspec": {
   "display_name": "base",
   "language": "python",
   "name": "python3"
  },
  "language_info": {
   "codemirror_mode": {
    "name": "ipython",
    "version": 3
   },
   "file_extension": ".py",
   "mimetype": "text/x-python",
   "name": "python",
   "nbconvert_exporter": "python",
   "pygments_lexer": "ipython3",
   "version": "3.12.7"
  }
 },
 "nbformat": 4,
 "nbformat_minor": 5
}
